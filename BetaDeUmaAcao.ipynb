{
  "nbformat": 4,
  "nbformat_minor": 0,
  "metadata": {
    "anaconda-cloud": {},
    "kernelspec": {
      "display_name": "Python 3",
      "language": "python",
      "name": "python3"
    },
    "language_info": {
      "codemirror_mode": {
        "name": "ipython",
        "version": 3
      },
      "file_extension": ".py",
      "mimetype": "text/x-python",
      "name": "python",
      "nbconvert_exporter": "python",
      "pygments_lexer": "ipython3",
      "version": "3.7.0"
    },
    "colab": {
      "name": "BetaDeUmaAcao.ipynb",
      "provenance": [],
      "include_colab_link": true
    }
  },
  "cells": [
    {
      "cell_type": "markdown",
      "metadata": {
        "id": "view-in-github",
        "colab_type": "text"
      },
      "source": [
        "<a href=\"https://colab.research.google.com/github/lucaseduardo79/le79repo/blob/master/BetaDeUmaAcao.ipynb\" target=\"_parent\"><img src=\"https://colab.research.google.com/assets/colab-badge.svg\" alt=\"Open In Colab\"/></a>"
      ]
    },
    {
      "cell_type": "markdown",
      "metadata": {
        "id": "H2QHqUTbX-sv",
        "colab_type": "text"
      },
      "source": [
        "O Beta mede a relação entre uma ação e uma carteira de mercado, \n",
        " mede o risco de mercardo que não pode ser evitado através da diversificação.\n",
        "\n",
        "Quanto mais volátil uma ação, maior seu beta.\n",
        "\n",
        "O beta de uma ação costuma ficar entre -1 e 2.\n",
        "\n",
        "Um beta de 0 significa que a ação não responde nem positivamente, nem negativamente a um movimento do mercado.\n",
        "\n",
        "As ações com um beta inferior a 1 são chamadas de defensivas porque se o mercado tiver baixa performance\n",
        "\n",
        "essas ações costumam perder menos do que o mercado.\n",
        "\n",
        "Ações com beta de 1 irão ter uma performance muito parecida com a do mercado.\n",
        "\n",
        "E por fim, ações com beta maior do que 1 são mais voláteis do que o mercado e irão ter\n",
        "\n",
        "desempenho melhor que este quando a economia vai bem por outro lado perdem mais quando a economia vai mal."
      ]
    },
    {
      "cell_type": "code",
      "metadata": {
        "id": "tJshVrxDWTsh",
        "colab_type": "code",
        "colab": {}
      },
      "source": [
        "import numpy as np\n",
        "import pandas as pd\n",
        "from pandas_datareader import data as wb\n",
        "\n",
        "tickers = ['ITUB4.SA', '^BVSP']\n",
        "data = pd.DataFrame()\n",
        "for t in tickers:\n",
        "    data[t] = wb.DataReader(t, data_source='yahoo', start='2014-1-1', end='2019-12-31')['Adj Close']   "
      ],
      "execution_count": 8,
      "outputs": []
    },
    {
      "cell_type": "markdown",
      "metadata": {
        "id": "JglwqFg6WTsl",
        "colab_type": "text"
      },
      "source": [
        "Calculando o Beta do Itaú Unibanco (ITUB4)"
      ]
    },
    {
      "cell_type": "code",
      "metadata": {
        "id": "Er_XJZgDWTsl",
        "colab_type": "code",
        "colab": {}
      },
      "source": [
        "sec_returns = np.log( data / data.shift(1) )"
      ],
      "execution_count": 9,
      "outputs": []
    },
    {
      "cell_type": "code",
      "metadata": {
        "scrolled": true,
        "id": "cTkq8Xz3WTso",
        "colab_type": "code",
        "colab": {
          "base_uri": "https://localhost:8080/",
          "height": 111
        },
        "outputId": "6e02e4b3-0e49-4df7-d34f-20b24fde5663"
      },
      "source": [
        "cov = sec_returns.cov() * 250\n",
        "cov"
      ],
      "execution_count": 10,
      "outputs": [
        {
          "output_type": "execute_result",
          "data": {
            "text/html": [
              "<div>\n",
              "<style scoped>\n",
              "    .dataframe tbody tr th:only-of-type {\n",
              "        vertical-align: middle;\n",
              "    }\n",
              "\n",
              "    .dataframe tbody tr th {\n",
              "        vertical-align: top;\n",
              "    }\n",
              "\n",
              "    .dataframe thead th {\n",
              "        text-align: right;\n",
              "    }\n",
              "</style>\n",
              "<table border=\"1\" class=\"dataframe\">\n",
              "  <thead>\n",
              "    <tr style=\"text-align: right;\">\n",
              "      <th></th>\n",
              "      <th>ITUB4.SA</th>\n",
              "      <th>^BVSP</th>\n",
              "    </tr>\n",
              "  </thead>\n",
              "  <tbody>\n",
              "    <tr>\n",
              "      <th>ITUB4.SA</th>\n",
              "      <td>0.092143</td>\n",
              "      <td>0.058886</td>\n",
              "    </tr>\n",
              "    <tr>\n",
              "      <th>^BVSP</th>\n",
              "      <td>0.058886</td>\n",
              "      <td>0.050866</td>\n",
              "    </tr>\n",
              "  </tbody>\n",
              "</table>\n",
              "</div>"
            ],
            "text/plain": [
              "          ITUB4.SA     ^BVSP\n",
              "ITUB4.SA  0.092143  0.058886\n",
              "^BVSP     0.058886  0.050866"
            ]
          },
          "metadata": {
            "tags": []
          },
          "execution_count": 10
        }
      ]
    },
    {
      "cell_type": "code",
      "metadata": {
        "id": "5Jfp5--qWTsr",
        "colab_type": "code",
        "colab": {
          "base_uri": "https://localhost:8080/",
          "height": 34
        },
        "outputId": "6e19dcf3-e09a-4b14-bc5e-b63fe9e8b18c"
      },
      "source": [
        "cov_with_market = cov.iloc[0,1]\n",
        "cov_with_market"
      ],
      "execution_count": 11,
      "outputs": [
        {
          "output_type": "execute_result",
          "data": {
            "text/plain": [
              "0.058886450782930935"
            ]
          },
          "metadata": {
            "tags": []
          },
          "execution_count": 11
        }
      ]
    },
    {
      "cell_type": "code",
      "metadata": {
        "scrolled": true,
        "id": "MuTMpsrMWTst",
        "colab_type": "code",
        "colab": {
          "base_uri": "https://localhost:8080/",
          "height": 34
        },
        "outputId": "1a2a2dd0-b483-4d72-dbe7-52aa105d046d"
      },
      "source": [
        "market_var = sec_returns['^BVSP'].var() * 250\n",
        "market_var"
      ],
      "execution_count": 12,
      "outputs": [
        {
          "output_type": "execute_result",
          "data": {
            "text/plain": [
              "0.05086566415314895"
            ]
          },
          "metadata": {
            "tags": []
          },
          "execution_count": 12
        }
      ]
    },
    {
      "cell_type": "markdown",
      "metadata": {
        "id": "yqljdt3mWTsw",
        "colab_type": "text"
      },
      "source": [
        "** Beta: **\n",
        "### $$ \n",
        "\\beta_{pg} = \\frac{\\sigma_{pg,m}}{\\sigma_{m}^2}\n",
        "$$"
      ]
    },
    {
      "cell_type": "code",
      "metadata": {
        "id": "gkNvscEzWTsw",
        "colab_type": "code",
        "colab": {
          "base_uri": "https://localhost:8080/",
          "height": 34
        },
        "outputId": "af6f25d2-7a80-4a5e-9e97-bfaa295fdbf7"
      },
      "source": [
        "ITUB4_beta = cov_with_market / market_var\n",
        "ITUB4_beta"
      ],
      "execution_count": 13,
      "outputs": [
        {
          "output_type": "execute_result",
          "data": {
            "text/plain": [
              "1.157685675854592"
            ]
          },
          "metadata": {
            "tags": []
          },
          "execution_count": 13
        }
      ]
    }
  ]
}