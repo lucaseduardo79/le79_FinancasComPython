{
  "nbformat": 4,
  "nbformat_minor": 0,
  "metadata": {
    "anaconda-cloud": {},
    "kernelspec": {
      "display_name": "Python 3",
      "language": "python",
      "name": "python3"
    },
    "language_info": {
      "codemirror_mode": {
        "name": "ipython",
        "version": 3
      },
      "file_extension": ".py",
      "mimetype": "text/x-python",
      "name": "python",
      "nbconvert_exporter": "python",
      "pygments_lexer": "ipython3",
      "version": "3.7.0"
    },
    "colab": {
      "name": "IndiceDeSharpe.ipynb",
      "provenance": [],
      "include_colab_link": true
    }
  },
  "cells": [
    {
      "cell_type": "markdown",
      "metadata": {
        "id": "view-in-github",
        "colab_type": "text"
      },
      "source": [
        "<a href=\"https://colab.research.google.com/github/lucaseduardo79/le79repo/blob/master/IndiceDeSharpe.ipynb\" target=\"_parent\"><img src=\"https://colab.research.google.com/assets/colab-badge.svg\" alt=\"Open In Colab\"/></a>"
      ]
    },
    {
      "cell_type": "markdown",
      "metadata": {
        "id": "SgnHWLVpd78U",
        "colab_type": "text"
      },
      "source": [
        "O índice Sharpe mede o desempenho de um investimento comparado a um ativo livre de risco, após o ajuste para seu risco. É definida como a diferença entre o retorno do investimento e o retorno livre de risco, dividido pelo desvio padrão do investimento.\n",
        "\n",
        "https://en.wikipedia.org/wiki/Sharpe_ratio\n"
      ]
    },
    {
      "cell_type": "code",
      "metadata": {
        "id": "4jMVJ84Sd78V",
        "colab_type": "code",
        "colab": {
          "base_uri": "https://localhost:8080/",
          "height": 71
        },
        "outputId": "43759570-4a56-461e-ebbe-d7ee04f2a1fb"
      },
      "source": [
        "import numpy as np\n",
        "import pandas as pd\n",
        "from pandas_datareader import data as wb\n",
        "\n",
        "tickers = ['ITUB4.SA', '^BVSP']\n",
        "data = pd.DataFrame()\n",
        "for t in tickers:\n",
        "    data[t] = wb.DataReader(t, data_source='yahoo', start='2012-1-1', end='2016-12-31')['Adj Close']  \n",
        "    \n",
        "sec_returns = np.log( data / data.shift(1) )\n",
        "cov = sec_returns.cov() * 250\n",
        "cov_with_market = cov.iloc[0,1]\n",
        "market_var = sec_returns['^BVSP'].var() * 250\n",
        "\n",
        "ITUB4_beta = cov_with_market / market_var\n",
        "ITUB4_er = 0.025 + ITUB4_beta * 0.05"
      ],
      "execution_count": 1,
      "outputs": [
        {
          "output_type": "stream",
          "text": [
            "/usr/local/lib/python3.6/dist-packages/pandas_datareader/compat/__init__.py:7: FutureWarning: pandas.util.testing is deprecated. Use the functions in the public API at pandas.testing instead.\n",
            "  from pandas.util.testing import assert_frame_equal\n"
          ],
          "name": "stderr"
        }
      ]
    },
    {
      "cell_type": "markdown",
      "metadata": {
        "id": "pHBDLL9Fd78Y",
        "colab_type": "text"
      },
      "source": [
        "**Sharpe ratio:**\n",
        "### $$\n",
        "Sharpe = \\frac{\\overline{r_{pg}} - r_f}{\\sigma_{pg}}\n",
        "$$"
      ]
    },
    {
      "cell_type": "code",
      "metadata": {
        "id": "uX6llXG3d78Z",
        "colab_type": "code",
        "colab": {
          "base_uri": "https://localhost:8080/",
          "height": 34
        },
        "outputId": "5eda4320-dbd6-433a-b0ca-687bc3f7a25f"
      },
      "source": [
        "Sharpe = (ITUB4_er - 0.025) / (sec_returns['ITUB4.SA'].std() * 250 ** 0.5)\n",
        "Sharpe"
      ],
      "execution_count": 2,
      "outputs": [
        {
          "output_type": "execute_result",
          "data": {
            "text/plain": [
              "0.17093368955650012"
            ]
          },
          "metadata": {
            "tags": []
          },
          "execution_count": 2
        }
      ]
    }
  ]
}