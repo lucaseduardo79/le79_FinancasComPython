{
  "nbformat": 4,
  "nbformat_minor": 0,
  "metadata": {
    "colab": {
      "name": "FronteiraEficiente.ipynb",
      "provenance": [],
      "authorship_tag": "ABX9TyPSEies5l2A+QVa02PaahxC",
      "include_colab_link": true
    },
    "kernelspec": {
      "name": "python3",
      "display_name": "Python 3"
    }
  },
  "cells": [
    {
      "cell_type": "markdown",
      "metadata": {
        "id": "view-in-github",
        "colab_type": "text"
      },
      "source": [
        "<a href=\"https://colab.research.google.com/github/lucaseduardo79/le79repo/blob/master/FronteiraEficiente.ipynb\" target=\"_parent\"><img src=\"https://colab.research.google.com/assets/colab-badge.svg\" alt=\"Open In Colab\"/></a>"
      ]
    },
    {
      "cell_type": "code",
      "metadata": {
        "id": "qGaw5N21w6t9",
        "colab_type": "code",
        "colab": {
          "base_uri": "https://localhost:8080/",
          "height": 71
        },
        "outputId": "452ee42d-aadf-40f7-cabe-8c468f103eee"
      },
      "source": [
        "import numpy as np\n",
        "import pandas as pd\n",
        "from pandas_datareader import data as wb\n",
        "import matplotlib.pyplot as plt\n",
        "%matplotlib inline"
      ],
      "execution_count": 1,
      "outputs": [
        {
          "output_type": "stream",
          "text": [
            "/usr/local/lib/python3.6/dist-packages/pandas_datareader/compat/__init__.py:7: FutureWarning: pandas.util.testing is deprecated. Use the functions in the public API at pandas.testing instead.\n",
            "  from pandas.util.testing import assert_frame_equal\n"
          ],
          "name": "stderr"
        }
      ]
    },
    {
      "cell_type": "markdown",
      "metadata": {
        "id": "Y77VINKRaOUm",
        "colab_type": "text"
      },
      "source": [
        "Conceito de fronteira eficiente : Dado um conjunto de ações é possível combiná-las formando infinitas diferentes carteiras.\n",
        "\n",
        " \n",
        "\n",
        "O retorno projetado de uma carteira é a média dos retornos projetados das ações que a compõem (média ponderada pela participacao de cada componente).\n",
        "\n",
        " \n",
        "\n",
        "O risco de uma carteira é obtido pela multiplicação da matriz de pesos pela de covarianças. \n",
        "\n",
        "\n",
        " \n",
        "\n",
        "\n",
        "Efficient frontier concept: Given a set of actions it is possible to combine them forming infinite different portfolios.\n",
        "\n",
        " \n",
        "\n",
        "The projected return of a portfolio is the average of the projected returns of the shares that compose it (average weighted by the participation of each component).\n",
        "\n",
        " \n",
        "\n",
        "The risk of a portfolio is obtained by multiplying the weight matrix by the covariance matrix. \n",
        "\n",
        "![image.png](data:image/png;base64,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)\n",
        "\n",
        "https://economatica.com/support/manual/portugues/Otimizacao_de_carteiras/Fronteiras_e_restricoes.htm"
      ]
    },
    {
      "cell_type": "code",
      "metadata": {
        "id": "auMuUSraxZy7",
        "colab_type": "code",
        "colab": {}
      },
      "source": [
        "\n",
        "### Itaú Unibanco (ITUB4)\n",
        "### Banco do Brasil (BBAS3)\n",
        "### Gerdau (GGBR4)\n",
        "### Copasa (CSMG3)\n",
        "\n",
        "\n",
        "assets = ['ITUB4.SA','BBAS3.SA','GGBR4.SA','CSMG3.SA']\n",
        "pf_data = pd.DataFrame()\n",
        "\n",
        "for a in assets:\n",
        "    pf_data[a]= wb.DataReader(a,data_source = 'yahoo', start = '2010-1-1')['Adj Close']"
      ],
      "execution_count": 2,
      "outputs": []
    },
    {
      "cell_type": "code",
      "metadata": {
        "id": "GLhCYmuOx9Gp",
        "colab_type": "code",
        "colab": {
          "base_uri": "https://localhost:8080/",
          "height": 235
        },
        "outputId": "13a07f6f-49bc-45d4-8fae-08fc8db36954"
      },
      "source": [
        "pf_data.tail()"
      ],
      "execution_count": 3,
      "outputs": [
        {
          "output_type": "execute_result",
          "data": {
            "text/html": [
              "<div>\n",
              "<style scoped>\n",
              "    .dataframe tbody tr th:only-of-type {\n",
              "        vertical-align: middle;\n",
              "    }\n",
              "\n",
              "    .dataframe tbody tr th {\n",
              "        vertical-align: top;\n",
              "    }\n",
              "\n",
              "    .dataframe thead th {\n",
              "        text-align: right;\n",
              "    }\n",
              "</style>\n",
              "<table border=\"1\" class=\"dataframe\">\n",
              "  <thead>\n",
              "    <tr style=\"text-align: right;\">\n",
              "      <th></th>\n",
              "      <th>ITUB4.SA</th>\n",
              "      <th>BBAS3.SA</th>\n",
              "      <th>GGBR4.SA</th>\n",
              "      <th>CSMG3.SA</th>\n",
              "    </tr>\n",
              "    <tr>\n",
              "      <th>Date</th>\n",
              "      <th></th>\n",
              "      <th></th>\n",
              "      <th></th>\n",
              "      <th></th>\n",
              "    </tr>\n",
              "  </thead>\n",
              "  <tbody>\n",
              "    <tr>\n",
              "      <th>2020-07-27</th>\n",
              "      <td>27.799999</td>\n",
              "      <td>34.910000</td>\n",
              "      <td>17.840000</td>\n",
              "      <td>55.279999</td>\n",
              "    </tr>\n",
              "    <tr>\n",
              "      <th>2020-07-28</th>\n",
              "      <td>27.639999</td>\n",
              "      <td>35.029999</td>\n",
              "      <td>17.730000</td>\n",
              "      <td>54.560001</td>\n",
              "    </tr>\n",
              "    <tr>\n",
              "      <th>2020-07-29</th>\n",
              "      <td>28.290001</td>\n",
              "      <td>35.950001</td>\n",
              "      <td>17.990000</td>\n",
              "      <td>54.200001</td>\n",
              "    </tr>\n",
              "    <tr>\n",
              "      <th>2020-07-30</th>\n",
              "      <td>27.809999</td>\n",
              "      <td>34.799999</td>\n",
              "      <td>17.740000</td>\n",
              "      <td>53.779999</td>\n",
              "    </tr>\n",
              "    <tr>\n",
              "      <th>2020-07-31</th>\n",
              "      <td>26.889999</td>\n",
              "      <td>33.580002</td>\n",
              "      <td>17.450001</td>\n",
              "      <td>54.549999</td>\n",
              "    </tr>\n",
              "  </tbody>\n",
              "</table>\n",
              "</div>"
            ],
            "text/plain": [
              "             ITUB4.SA   BBAS3.SA   GGBR4.SA   CSMG3.SA\n",
              "Date                                                  \n",
              "2020-07-27  27.799999  34.910000  17.840000  55.279999\n",
              "2020-07-28  27.639999  35.029999  17.730000  54.560001\n",
              "2020-07-29  28.290001  35.950001  17.990000  54.200001\n",
              "2020-07-30  27.809999  34.799999  17.740000  53.779999\n",
              "2020-07-31  26.889999  33.580002  17.450001  54.549999"
            ]
          },
          "metadata": {
            "tags": []
          },
          "execution_count": 3
        }
      ]
    },
    {
      "cell_type": "code",
      "metadata": {
        "id": "uWK2yTM-x_-I",
        "colab_type": "code",
        "colab": {
          "base_uri": "https://localhost:8080/",
          "height": 335
        },
        "outputId": "b5f21bfa-ece6-4219-dbf8-5b0f60724715"
      },
      "source": [
        "(pf_data / pf_data.iloc[0] * 100).plot(figsize=(10, 5))"
      ],
      "execution_count": 4,
      "outputs": [
        {
          "output_type": "execute_result",
          "data": {
            "text/plain": [
              "<matplotlib.axes._subplots.AxesSubplot at 0x7ff30f075c50>"
            ]
          },
          "metadata": {
            "tags": []
          },
          "execution_count": 4
        },
        {
          "output_type": "display_data",
          "data": {
            "image/png": "[encoded data removed]",
            "text/plain": [
              "<Figure size 720x360 with 1 Axes>"
            ]
          },
          "metadata": {
            "tags": [],
            "needs_background": "light"
          }
        }
      ]
    },
    {
      "cell_type": "code",
      "metadata": {
        "id": "Jzwv50ozyQhn",
        "colab_type": "code",
        "colab": {}
      },
      "source": [
        "#Obtendo o retorno Logarítmico \n",
        "#Getting the logarithmic return\n",
        "log_returns = np.log(pf_data  / pf_data.shift(1))"
      ],
      "execution_count": 5,
      "outputs": []
    },
    {
      "cell_type": "code",
      "metadata": {
        "id": "YWQ3oRO_yku3",
        "colab_type": "code",
        "colab": {
          "base_uri": "https://localhost:8080/",
          "height": 102
        },
        "outputId": "609dfdd9-d10b-4497-f393-9b2d64b96c75"
      },
      "source": [
        "#Obtendo o retorno médio anual\n",
        "#Getting the annual mean \n",
        "log_returns.mean() * 250"
      ],
      "execution_count": 6,
      "outputs": [
        {
          "output_type": "execute_result",
          "data": {
            "text/plain": [
              "ITUB4.SA    0.074476\n",
              "BBAS3.SA    0.072874\n",
              "GGBR4.SA   -0.023227\n",
              "CSMG3.SA    0.084449\n",
              "dtype: float64"
            ]
          },
          "metadata": {
            "tags": []
          },
          "execution_count": 6
        }
      ]
    },
    {
      "cell_type": "code",
      "metadata": {
        "id": "H1OFj6LVytcY",
        "colab_type": "code",
        "colab": {
          "base_uri": "https://localhost:8080/",
          "height": 173
        },
        "outputId": "01d04972-c6e0-40f3-ed73-85e8d7b259a8"
      },
      "source": [
        "#Obtendo a matriz de Covariância\n",
        "#Getting the Covariance Matrix\n",
        "log_returns.cov() * 250"
      ],
      "execution_count": 7,
      "outputs": [
        {
          "output_type": "execute_result",
          "data": {
            "text/html": [
              "<div>\n",
              "<style scoped>\n",
              "    .dataframe tbody tr th:only-of-type {\n",
              "        vertical-align: middle;\n",
              "    }\n",
              "\n",
              "    .dataframe tbody tr th {\n",
              "        vertical-align: top;\n",
              "    }\n",
              "\n",
              "    .dataframe thead th {\n",
              "        text-align: right;\n",
              "    }\n",
              "</style>\n",
              "<table border=\"1\" class=\"dataframe\">\n",
              "  <thead>\n",
              "    <tr style=\"text-align: right;\">\n",
              "      <th></th>\n",
              "      <th>ITUB4.SA</th>\n",
              "      <th>BBAS3.SA</th>\n",
              "      <th>GGBR4.SA</th>\n",
              "      <th>CSMG3.SA</th>\n",
              "    </tr>\n",
              "  </thead>\n",
              "  <tbody>\n",
              "    <tr>\n",
              "      <th>ITUB4.SA</th>\n",
              "      <td>0.100445</td>\n",
              "      <td>0.100549</td>\n",
              "      <td>0.069437</td>\n",
              "      <td>0.040286</td>\n",
              "    </tr>\n",
              "    <tr>\n",
              "      <th>BBAS3.SA</th>\n",
              "      <td>0.100549</td>\n",
              "      <td>0.180697</td>\n",
              "      <td>0.090035</td>\n",
              "      <td>0.057123</td>\n",
              "    </tr>\n",
              "    <tr>\n",
              "      <th>GGBR4.SA</th>\n",
              "      <td>0.069437</td>\n",
              "      <td>0.090035</td>\n",
              "      <td>0.201442</td>\n",
              "      <td>0.045868</td>\n",
              "    </tr>\n",
              "    <tr>\n",
              "      <th>CSMG3.SA</th>\n",
              "      <td>0.040286</td>\n",
              "      <td>0.057123</td>\n",
              "      <td>0.045868</td>\n",
              "      <td>0.160894</td>\n",
              "    </tr>\n",
              "  </tbody>\n",
              "</table>\n",
              "</div>"
            ],
            "text/plain": [
              "          ITUB4.SA  BBAS3.SA  GGBR4.SA  CSMG3.SA\n",
              "ITUB4.SA  0.100445  0.100549  0.069437  0.040286\n",
              "BBAS3.SA  0.100549  0.180697  0.090035  0.057123\n",
              "GGBR4.SA  0.069437  0.090035  0.201442  0.045868\n",
              "CSMG3.SA  0.040286  0.057123  0.045868  0.160894"
            ]
          },
          "metadata": {
            "tags": []
          },
          "execution_count": 7
        }
      ]
    },
    {
      "cell_type": "code",
      "metadata": {
        "id": "whUUjQhey4-J",
        "colab_type": "code",
        "colab": {
          "base_uri": "https://localhost:8080/",
          "height": 173
        },
        "outputId": "037e6ef9-15aa-4f47-be41-ae63b06c0c1b"
      },
      "source": [
        "#Obtendo a matriz de Correlação\n",
        "#Getting the Correlation Matrix\n",
        "log_returns.corr() "
      ],
      "execution_count": 8,
      "outputs": [
        {
          "output_type": "execute_result",
          "data": {
            "text/html": [
              "<div>\n",
              "<style scoped>\n",
              "    .dataframe tbody tr th:only-of-type {\n",
              "        vertical-align: middle;\n",
              "    }\n",
              "\n",
              "    .dataframe tbody tr th {\n",
              "        vertical-align: top;\n",
              "    }\n",
              "\n",
              "    .dataframe thead th {\n",
              "        text-align: right;\n",
              "    }\n",
              "</style>\n",
              "<table border=\"1\" class=\"dataframe\">\n",
              "  <thead>\n",
              "    <tr style=\"text-align: right;\">\n",
              "      <th></th>\n",
              "      <th>ITUB4.SA</th>\n",
              "      <th>BBAS3.SA</th>\n",
              "      <th>GGBR4.SA</th>\n",
              "      <th>CSMG3.SA</th>\n",
              "    </tr>\n",
              "  </thead>\n",
              "  <tbody>\n",
              "    <tr>\n",
              "      <th>ITUB4.SA</th>\n",
              "      <td>1.000000</td>\n",
              "      <td>0.745555</td>\n",
              "      <td>0.488231</td>\n",
              "      <td>0.316779</td>\n",
              "    </tr>\n",
              "    <tr>\n",
              "      <th>BBAS3.SA</th>\n",
              "      <td>0.745555</td>\n",
              "      <td>1.000000</td>\n",
              "      <td>0.470775</td>\n",
              "      <td>0.334884</td>\n",
              "    </tr>\n",
              "    <tr>\n",
              "      <th>GGBR4.SA</th>\n",
              "      <td>0.488231</td>\n",
              "      <td>0.470775</td>\n",
              "      <td>1.000000</td>\n",
              "      <td>0.253051</td>\n",
              "    </tr>\n",
              "    <tr>\n",
              "      <th>CSMG3.SA</th>\n",
              "      <td>0.316779</td>\n",
              "      <td>0.334884</td>\n",
              "      <td>0.253051</td>\n",
              "      <td>1.000000</td>\n",
              "    </tr>\n",
              "  </tbody>\n",
              "</table>\n",
              "</div>"
            ],
            "text/plain": [
              "          ITUB4.SA  BBAS3.SA  GGBR4.SA  CSMG3.SA\n",
              "ITUB4.SA  1.000000  0.745555  0.488231  0.316779\n",
              "BBAS3.SA  0.745555  1.000000  0.470775  0.334884\n",
              "GGBR4.SA  0.488231  0.470775  1.000000  0.253051\n",
              "CSMG3.SA  0.316779  0.334884  0.253051  1.000000"
            ]
          },
          "metadata": {
            "tags": []
          },
          "execution_count": 8
        }
      ]
    },
    {
      "cell_type": "code",
      "metadata": {
        "id": "ogFIn0aK1JLb",
        "colab_type": "code",
        "colab": {}
      },
      "source": [
        "#Obtendo o número de ativos na carteira\n",
        "#Getting the number of assets in the portfolio\n",
        "num_assets = len(assets)"
      ],
      "execution_count": 9,
      "outputs": []
    },
    {
      "cell_type": "code",
      "metadata": {
        "id": "i5lQja_j1L1Z",
        "colab_type": "code",
        "colab": {
          "base_uri": "https://localhost:8080/",
          "height": 34
        },
        "outputId": "050ef556-1153-42ae-8f07-8f2d2de0c675"
      },
      "source": [
        "## Gerando Pesos aleatórios\n",
        "## Generating random weights\n",
        "weights = np.random.random(num_assets)\n",
        "weights /= np.sum(weights)\n",
        "weights"
      ],
      "execution_count": 10,
      "outputs": [
        {
          "output_type": "execute_result",
          "data": {
            "text/plain": [
              "array([0.06041113, 0.42439013, 0.46383103, 0.05136771])"
            ]
          },
          "metadata": {
            "tags": []
          },
          "execution_count": 10
        }
      ]
    },
    {
      "cell_type": "code",
      "metadata": {
        "id": "kV9q-csD1fkI",
        "colab_type": "code",
        "colab": {
          "base_uri": "https://localhost:8080/",
          "height": 34
        },
        "outputId": "8b958008-0e6e-48da-9f1d-3ac54f9d012a"
      },
      "source": [
        "#Conferindo se a soma dos pesos é igual a um\n",
        "#Checking if the sum of the weights is one\n",
        "\n",
        "weights[0] + weights[1] + weights[2] + weights[3] "
      ],
      "execution_count": 11,
      "outputs": [
        {
          "output_type": "execute_result",
          "data": {
            "text/plain": [
              "1.0"
            ]
          },
          "metadata": {
            "tags": []
          },
          "execution_count": 11
        }
      ]
    },
    {
      "cell_type": "code",
      "metadata": {
        "id": "cZJKFuNNhdpS",
        "colab_type": "code",
        "colab": {}
      },
      "source": [
        "pfolio_returns = []\n",
        "pfolio_volatilities = []"
      ],
      "execution_count": 12,
      "outputs": []
    },
    {
      "cell_type": "code",
      "metadata": {
        "id": "ZvI2MydbhnXX",
        "colab_type": "code",
        "colab": {
          "base_uri": "https://localhost:8080/",
          "height": 1000
        },
        "outputId": "fe27f623-cc6b-4257-fa2e-d1d1c0e23da7"
      },
      "source": [
        "for x in range (1000):\n",
        "  \n",
        "  weights = np.random.random(num_assets)\n",
        "  weights /= np.sum(weights)\n",
        "#Aplicando a fórmula do Retorno esperado\n",
        "  pfolio_returns.append(np.sum(weights * log_returns.mean()) * 250)\n",
        "#Aplicando a fórmula do Risco  esperado\n",
        "  pfolio_volatilities.append(np.sqrt(np.dot(weights.T, np.dot(log_returns.cov() * 250, weights))))\n",
        "\n",
        "pfolio_returns = np.array(pfolio_returns)\n",
        "pfolio_volatilities = np.array(pfolio_volatilities)\n",
        "\n",
        "pfolio_returns, pfolio_volatilities"
      ],
      "execution_count": 13,
      "outputs": [
        {
          "output_type": "execute_result",
          "data": {
            "text/plain": [
              "(array([0.0483477 , 0.05559998, 0.05480413, 0.07192284, 0.05540876,\n",
              "        0.0425344 , 0.04165452, 0.07235091, 0.05857108, 0.05115001,\n",
              "        0.04917496, 0.04594261, 0.04057525, 0.05940476, 0.05608333,\n",
              "        0.06473359, 0.07343292, 0.07114804, 0.04912017, 0.04307518,\n",
              "        0.05365908, 0.07347188, 0.03527572, 0.04904432, 0.02962138,\n",
              "        0.06063695, 0.03898643, 0.05596647, 0.05117782, 0.04190035,\n",
              "        0.05110121, 0.03720816, 0.02443074, 0.02206137, 0.04186534,\n",
              "        0.03824273, 0.03793462, 0.03577176, 0.05558499, 0.0285416 ,\n",
              "        0.06890365, 0.05875273, 0.04706957, 0.07398941, 0.07884281,\n",
              "        0.05020848, 0.07509847, 0.06454041, 0.0598006 , 0.06651036,\n",
              "        0.05133423, 0.0629496 , 0.06500024, 0.07666085, 0.04281918,\n",
              "        0.02761884, 0.05232464, 0.03652754, 0.0498089 , 0.04592259,\n",
              "        0.04948251, 0.05735102, 0.07578433, 0.04947642, 0.03041465,\n",
              "        0.06956743, 0.05565397, 0.06351432, 0.0488213 , 0.05209773,\n",
              "        0.06744036, 0.05271598, 0.05061962, 0.07449029, 0.04185358,\n",
              "        0.07515275, 0.05126504, 0.07512443, 0.05316784, 0.07201949,\n",
              "        0.0442804 , 0.06380795, 0.02565004, 0.04895619, 0.03069384,\n",
              "        0.04888362, 0.05163526, 0.05949438, 0.05088884, 0.06692554,\n",
              "        0.03318082, 0.06419664, 0.07458859, 0.04159702, 0.06458647,\n",
              "        0.04350962, 0.03767574, 0.05444042, 0.05204791, 0.0429323 ,\n",
              "        0.05527679, 0.06822483, 0.0615613 , 0.06994224, 0.01822439,\n",
              "        0.07249618, 0.03619151, 0.07195848, 0.05339521, 0.03314588,\n",
              "        0.07360918, 0.07619625, 0.06116561, 0.06960066, 0.03027598,\n",
              "        0.07626986, 0.05021856, 0.0490099 , 0.04168058, 0.05499177,\n",
              "        0.04609433, 0.04888868, 0.0468316 , 0.05577347, 0.03973453,\n",
              "        0.0522109 , 0.0481043 , 0.05206363, 0.07091386, 0.04897276,\n",
              "        0.02919259, 0.05139899, 0.07397989, 0.06410247, 0.05563537,\n",
              "        0.03781574, 0.04917157, 0.06336078, 0.04145375, 0.04729408,\n",
              "        0.04407871, 0.06534714, 0.04805977, 0.04278367, 0.03575436,\n",
              "        0.07352056, 0.0427121 , 0.04708059, 0.0211851 , 0.07202199,\n",
              "        0.06453155, 0.06638732, 0.04163091, 0.04904388, 0.03967201,\n",
              "        0.06817038, 0.02498861, 0.05658979, 0.06629042, 0.06196081,\n",
              "        0.01587158, 0.06603569, 0.04709818, 0.05215043, 0.03852706,\n",
              "        0.07120474, 0.05298277, 0.0522298 , 0.06040106, 0.0326241 ,\n",
              "        0.03202802, 0.04759621, 0.06432997, 0.05763324, 0.0601682 ,\n",
              "        0.05722012, 0.0525401 , 0.07040485, 0.05714014, 0.06933406,\n",
              "        0.06580596, 0.04262973, 0.0600824 , 0.06135992, 0.04659599,\n",
              "        0.04516817, 0.06642471, 0.0646369 , 0.03931475, 0.05553156,\n",
              "        0.0551797 , 0.05189557, 0.02903113, 0.03931257, 0.05379102,\n",
              "        0.04464429, 0.05270269, 0.04240169, 0.05260104, 0.03698564,\n",
              "        0.02737359, 0.04516604, 0.04848074, 0.03460042, 0.05919944,\n",
              "        0.03460422, 0.05664196, 0.06854754, 0.07512199, 0.07328268,\n",
              "        0.05459482, 0.05208548, 0.03455451, 0.02563532, 0.04232199,\n",
              "        0.05005146, 0.02285837, 0.04568898, 0.05466434, 0.05904838,\n",
              "        0.05326185, 0.04940823, 0.04448931, 0.05137196, 0.0373069 ,\n",
              "        0.07336337, 0.04859239, 0.07178761, 0.02394598, 0.06995145,\n",
              "        0.04447003, 0.05354039, 0.05198473, 0.05999351, 0.03627033,\n",
              "        0.0508294 , 0.04590055, 0.0600934 , 0.0537943 , 0.0599649 ,\n",
              "        0.0447872 , 0.02514514, 0.06595307, 0.04601552, 0.04883814,\n",
              "        0.05068736, 0.06110669, 0.04836012, 0.06348729, 0.04357484,\n",
              "        0.03912649, 0.03982647, 0.05790119, 0.03071538, 0.04546119,\n",
              "        0.07425147, 0.0694466 , 0.06347565, 0.04738168, 0.05838059,\n",
              "        0.06789265, 0.04694563, 0.03030827, 0.04940271, 0.02804839,\n",
              "        0.07091384, 0.04495258, 0.06796113, 0.03883711, 0.07651634,\n",
              "        0.06695448, 0.0581419 , 0.06318274, 0.05079631, 0.06202585,\n",
              "        0.06546357, 0.01374831, 0.07318962, 0.03795868, 0.04724294,\n",
              "        0.04141385, 0.02489301, 0.0150534 , 0.07606853, 0.05762855,\n",
              "        0.06994102, 0.06021709, 0.06658299, 0.0498798 , 0.0499269 ,\n",
              "        0.03591219, 0.04168807, 0.04664897, 0.06333329, 0.06168716,\n",
              "        0.06252256, 0.05384102, 0.04092551, 0.06974927, 0.03852719,\n",
              "        0.03016323, 0.03622689, 0.05801165, 0.03932494, 0.04249932,\n",
              "        0.04863963, 0.06896225, 0.05926141, 0.02608558, 0.02696688,\n",
              "        0.07347005, 0.07667468, 0.05364686, 0.05464577, 0.05445961,\n",
              "        0.03380853, 0.06817629, 0.02545041, 0.03257845, 0.07194067,\n",
              "        0.0351941 , 0.04203438, 0.02078543, 0.05503968, 0.04589471,\n",
              "        0.03357391, 0.04583916, 0.05007094, 0.04909659, 0.06301103,\n",
              "        0.06637465, 0.03760847, 0.0717056 , 0.05051299, 0.05126644,\n",
              "        0.03486637, 0.04537613, 0.04214997, 0.06457734, 0.0510318 ,\n",
              "        0.06886397, 0.04653412, 0.06570565, 0.026824  , 0.0552849 ,\n",
              "        0.07140253, 0.05548521, 0.06148178, 0.07921127, 0.04472364,\n",
              "        0.06765855, 0.07163813, 0.06118935, 0.0559162 , 0.03042888,\n",
              "        0.03901768, 0.04926054, 0.05119408, 0.04663317, 0.05752917,\n",
              "        0.05286525, 0.04780694, 0.047177  , 0.03418234, 0.0457801 ,\n",
              "        0.05941894, 0.03853376, 0.05323024, 0.07693711, 0.07709312,\n",
              "        0.04591566, 0.03584446, 0.05129366, 0.04568618, 0.0604188 ,\n",
              "        0.06738845, 0.06393552, 0.04407074, 0.0517756 , 0.05578472,\n",
              "        0.06696873, 0.05263133, 0.04960235, 0.07419017, 0.04554946,\n",
              "        0.07263658, 0.060653  , 0.05593066, 0.04664119, 0.06163133,\n",
              "        0.06049438, 0.04206118, 0.04817097, 0.05915567, 0.06150167,\n",
              "        0.06727603, 0.05194099, 0.04487791, 0.04474043, 0.05249739,\n",
              "        0.07558468, 0.06971289, 0.04998662, 0.04944677, 0.07468787,\n",
              "        0.07154774, 0.02280735, 0.05016971, 0.05129346, 0.06178689,\n",
              "        0.04265414, 0.06537211, 0.06717904, 0.06692381, 0.0388927 ,\n",
              "        0.0357869 , 0.04119128, 0.07446396, 0.05837844, 0.04276097,\n",
              "        0.05517073, 0.0527531 , 0.05782896, 0.05624421, 0.05636605,\n",
              "        0.05460889, 0.05497566, 0.04432644, 0.05611051, 0.0653274 ,\n",
              "        0.04313306, 0.05014028, 0.05191208, 0.04030693, 0.07458546,\n",
              "        0.02408473, 0.03635026, 0.04221163, 0.0548535 , 0.04094741,\n",
              "        0.0597302 , 0.07589811, 0.06701532, 0.04627541, 0.04973012,\n",
              "        0.05537893, 0.04643697, 0.07884987, 0.07038635, 0.05410904,\n",
              "        0.03643016, 0.04342178, 0.05291189, 0.06477782, 0.03967352,\n",
              "        0.06830753, 0.0300575 , 0.06629312, 0.07496322, 0.03821997,\n",
              "        0.04567289, 0.07726944, 0.04190098, 0.06463291, 0.06711246,\n",
              "        0.03649804, 0.06212611, 0.07338744, 0.03669423, 0.06873506,\n",
              "        0.03700788, 0.05679708, 0.04988636, 0.07103042, 0.05391227,\n",
              "        0.07055428, 0.02927405, 0.07113804, 0.04641088, 0.06966908,\n",
              "        0.05395969, 0.06211913, 0.04827457, 0.05954675, 0.03541834,\n",
              "        0.0540045 , 0.05645463, 0.04287058, 0.04208781, 0.05943675,\n",
              "        0.04059388, 0.04726594, 0.06014143, 0.04674336, 0.04459292,\n",
              "        0.0555017 , 0.06350557, 0.05041692, 0.05841717, 0.06932747,\n",
              "        0.07562158, 0.07441569, 0.05965346, 0.05546851, 0.02769294,\n",
              "        0.05198131, 0.0723818 , 0.07739324, 0.05320305, 0.07500093,\n",
              "        0.03005636, 0.06729088, 0.04922212, 0.04792708, 0.04648045,\n",
              "        0.0474285 , 0.05743879, 0.05013259, 0.04052774, 0.03133997,\n",
              "        0.04511351, 0.07510048, 0.03562613, 0.03870031, 0.04219125,\n",
              "        0.07686331, 0.07064549, 0.03546583, 0.06326515, 0.05093382,\n",
              "        0.06842415, 0.03935902, 0.04356487, 0.05367466, 0.06316775,\n",
              "        0.06144734, 0.05254872, 0.04939641, 0.0369643 , 0.01727755,\n",
              "        0.04305673, 0.05715209, 0.06297027, 0.05838063, 0.07429481,\n",
              "        0.06266589, 0.08149103, 0.04888329, 0.05246513, 0.06530611,\n",
              "        0.05250499, 0.03724702, 0.05972865, 0.03232949, 0.03040876,\n",
              "        0.05553613, 0.06659572, 0.05193023, 0.04605037, 0.05177972,\n",
              "        0.06890773, 0.03745181, 0.06566624, 0.07225973, 0.06272139,\n",
              "        0.04142897, 0.04952575, 0.05243844, 0.044756  , 0.05747186,\n",
              "        0.05284289, 0.03432505, 0.06346302, 0.0519842 , 0.05211296,\n",
              "        0.06660226, 0.06830462, 0.04537459, 0.04842288, 0.05659977,\n",
              "        0.04746079, 0.06823454, 0.0743798 , 0.06591018, 0.06310252,\n",
              "        0.04265126, 0.04584719, 0.06996934, 0.056674  , 0.03760135,\n",
              "        0.04526426, 0.04159304, 0.04895969, 0.07040509, 0.04504271,\n",
              "        0.03672303, 0.04342557, 0.0690717 , 0.05084227, 0.03861366,\n",
              "        0.0402172 , 0.03817988, 0.02510632, 0.04612756, 0.07589542,\n",
              "        0.04620121, 0.06581233, 0.05723119, 0.06526272, 0.05590834,\n",
              "        0.03883205, 0.04763692, 0.05151477, 0.07223609, 0.03727726,\n",
              "        0.02938747, 0.02998776, 0.05499164, 0.06898802, 0.05049032,\n",
              "        0.04701402, 0.06931357, 0.04843107, 0.01651178, 0.05095497,\n",
              "        0.04500453, 0.07230261, 0.03706641, 0.07045518, 0.05920196,\n",
              "        0.04988564, 0.05834088, 0.03273629, 0.02509712, 0.04189237,\n",
              "        0.06421692, 0.02378785, 0.04638661, 0.05385955, 0.06702609,\n",
              "        0.07044095, 0.07471418, 0.06321396, 0.04839316, 0.05655454,\n",
              "        0.07519593, 0.0588614 , 0.05877612, 0.06421444, 0.05024066,\n",
              "        0.04424427, 0.02875784, 0.02941628, 0.05140778, 0.03916129,\n",
              "        0.04864191, 0.03701545, 0.04649972, 0.07652029, 0.05898291,\n",
              "        0.05040567, 0.04699269, 0.0350621 , 0.05311347, 0.05629942,\n",
              "        0.03972008, 0.05605138, 0.062236  , 0.03487963, 0.04849681,\n",
              "        0.06061707, 0.047376  , 0.05803257, 0.0723573 , 0.05833468,\n",
              "        0.04752293, 0.03685259, 0.050744  , 0.04432226, 0.04908868,\n",
              "        0.04701428, 0.0797122 , 0.01920124, 0.06612498, 0.07218576,\n",
              "        0.03709205, 0.03903227, 0.06004084, 0.02421013, 0.03715219,\n",
              "        0.05830055, 0.03391817, 0.04596257, 0.05802978, 0.07164195,\n",
              "        0.06585462, 0.047928  , 0.06030461, 0.05619556, 0.03671706,\n",
              "        0.01837033, 0.0312047 , 0.02583366, 0.07414439, 0.02938917,\n",
              "        0.05007512, 0.05419996, 0.04171961, 0.07275957, 0.07301626,\n",
              "        0.05615904, 0.0614141 , 0.07303094, 0.05931602, 0.01390741,\n",
              "        0.05897677, 0.05208449, 0.0339452 , 0.05902005, 0.06150066,\n",
              "        0.01401488, 0.06495486, 0.05361503, 0.04289688, 0.06187128,\n",
              "        0.04526927, 0.04920653, 0.06861565, 0.06373261, 0.07567585,\n",
              "        0.0695282 , 0.03434871, 0.06080747, 0.03692533, 0.04804794,\n",
              "        0.04245739, 0.0393685 , 0.04252898, 0.03822356, 0.06408078,\n",
              "        0.02748982, 0.07691333, 0.04614722, 0.04167716, 0.0687929 ,\n",
              "        0.04910863, 0.06455715, 0.03712956, 0.04059525, 0.05089921,\n",
              "        0.0353804 , 0.06057701, 0.07826678, 0.04502505, 0.06237423,\n",
              "        0.07209556, 0.04720335, 0.0536507 , 0.03108856, 0.06677993,\n",
              "        0.05268573, 0.06001966, 0.02630812, 0.06311374, 0.07328239,\n",
              "        0.04543966, 0.03968224, 0.04774359, 0.04375425, 0.04556808,\n",
              "        0.07243634, 0.05947067, 0.06087722, 0.06397949, 0.05079832,\n",
              "        0.05024507, 0.06589067, 0.05819265, 0.05384849, 0.04990307,\n",
              "        0.07028244, 0.06496199, 0.05225519, 0.0722261 , 0.03941944,\n",
              "        0.07443265, 0.025905  , 0.06612708, 0.03286258, 0.0570188 ,\n",
              "        0.03123359, 0.04018735, 0.05034358, 0.05951835, 0.07721176,\n",
              "        0.01346829, 0.04084832, 0.0284466 , 0.06422284, 0.05225663,\n",
              "        0.07098374, 0.07731716, 0.05705786, 0.05370592, 0.02761411,\n",
              "        0.05543976, 0.06814538, 0.02404602, 0.05727303, 0.07481556,\n",
              "        0.04560928, 0.05068436, 0.06264077, 0.05600848, 0.03129481,\n",
              "        0.0579936 , 0.04460788, 0.07166575, 0.03432052, 0.05626185,\n",
              "        0.04155713, 0.06577692, 0.06947493, 0.06567524, 0.06485552,\n",
              "        0.04187614, 0.04755785, 0.05820392, 0.06814165, 0.04568093,\n",
              "        0.0528481 , 0.0507351 , 0.05267307, 0.03861908, 0.04738028,\n",
              "        0.03037608, 0.05906542, 0.06212899, 0.06916081, 0.04831534,\n",
              "        0.07308779, 0.06147863, 0.05972376, 0.04311601, 0.06738141,\n",
              "        0.03697458, 0.05789974, 0.03815192, 0.03240088, 0.03639107,\n",
              "        0.06804942, 0.0620871 , 0.04647693, 0.04747009, 0.04095996,\n",
              "        0.0536074 , 0.01749583, 0.04864541, 0.05413239, 0.02672657,\n",
              "        0.03118183, 0.07056577, 0.07253713, 0.05670457, 0.0420029 ,\n",
              "        0.06031931, 0.0525139 , 0.05265608, 0.04206615, 0.07627301,\n",
              "        0.04304388, 0.04230195, 0.04903236, 0.06857176, 0.0577559 ,\n",
              "        0.05062715, 0.06667433, 0.07589754, 0.04194925, 0.06901359,\n",
              "        0.05539771, 0.05583614, 0.05761785, 0.0653184 , 0.06677594,\n",
              "        0.04093531, 0.05100509, 0.05787412, 0.03996547, 0.06909267,\n",
              "        0.0571072 , 0.05054724, 0.03401569, 0.06079486, 0.05575972,\n",
              "        0.07186493, 0.06815832, 0.06163343, 0.04864477, 0.0371905 ,\n",
              "        0.05991395, 0.05283073, 0.05465605, 0.04447741, 0.04477102,\n",
              "        0.06819958, 0.06086845, 0.03955695, 0.05663637, 0.05037083,\n",
              "        0.05819513, 0.02571498, 0.05982986, 0.06349148, 0.04137113,\n",
              "        0.04516852, 0.06192453, 0.03394676, 0.06962141, 0.07235988,\n",
              "        0.04441128, 0.03121235, 0.02679397, 0.05422482, 0.06718145,\n",
              "        0.06846433, 0.05362949, 0.03166343, 0.07140718, 0.05005987,\n",
              "        0.04463103, 0.07595217, 0.04518056, 0.01527089, 0.06016242,\n",
              "        0.04387443, 0.04505376, 0.02840935, 0.07414233, 0.05404339,\n",
              "        0.03493392, 0.04106802, 0.04313591, 0.03742533, 0.05520749,\n",
              "        0.06569407, 0.03847661, 0.06849142, 0.06092076, 0.03566668,\n",
              "        0.06112225, 0.05219169, 0.07065207, 0.04289256, 0.065974  ,\n",
              "        0.05361728, 0.04073323, 0.0675652 , 0.02724449, 0.07526405,\n",
              "        0.07221134, 0.04799118, 0.06885356, 0.06865406, 0.05493057,\n",
              "        0.06218775, 0.04208559, 0.06034365, 0.04750413, 0.07061563,\n",
              "        0.05392791, 0.06227812, 0.04004207, 0.04356845, 0.03297976,\n",
              "        0.05871664, 0.03627186, 0.04949292, 0.04135561, 0.05415832,\n",
              "        0.04449519, 0.04343431, 0.04110213, 0.0578064 , 0.04838793,\n",
              "        0.06422037, 0.02889437, 0.03194641, 0.04835262, 0.07171665,\n",
              "        0.00999254, 0.06456547, 0.07329552, 0.06048629, 0.05358195,\n",
              "        0.04145875, 0.06535544, 0.05958933, 0.06095626, 0.07583999]),\n",
              " array([0.31569589, 0.28397124, 0.30323881, 0.2812624 , 0.30759031,\n",
              "        0.29923129, 0.3046292 , 0.29898023, 0.30739556, 0.30509853,\n",
              "        0.30854567, 0.3009263 , 0.30063795, 0.2900962 , 0.30686886,\n",
              "        0.31826257, 0.32351129, 0.3008098 , 0.30685814, 0.29710591,\n",
              "        0.33041448, 0.33781875, 0.31025015, 0.31764029, 0.33534466,\n",
              "        0.29032739, 0.31263404, 0.29497468, 0.30264803, 0.32757601,\n",
              "        0.30432443, 0.32924784, 0.3287748 , 0.33620724, 0.30427267,\n",
              "        0.31631643, 0.31613992, 0.31566198, 0.31882078, 0.32165906,\n",
              "        0.28310152, 0.29525842, 0.30383947, 0.29922073, 0.31304893,\n",
              "        0.29653888, 0.31077331, 0.29175097, 0.31935061, 0.29554522,\n",
              "        0.31145812, 0.30231626, 0.30312338, 0.30069256, 0.31139187,\n",
              "        0.32795585, 0.31787591, 0.30326374, 0.300803  , 0.30522162,\n",
              "        0.29423806, 0.30629337, 0.32667059, 0.32795342, 0.3574412 ,\n",
              "        0.35829844, 0.32801979, 0.31983099, 0.29255623, 0.32605434,\n",
              "        0.31229239, 0.30701596, 0.31328651, 0.29121543, 0.32618943,\n",
              "        0.30235537, 0.30488895, 0.29429703, 0.31092473, 0.30723363,\n",
              "        0.31354605, 0.35645519, 0.35191071, 0.31569781, 0.32699795,\n",
              "        0.30893289, 0.30313048, 0.30215928, 0.30449329, 0.29069736,\n",
              "        0.33152404, 0.28813693, 0.29789371, 0.31945329, 0.31733431,\n",
              "        0.31699576, 0.32129513, 0.32427685, 0.31096461, 0.29463665,\n",
              "        0.29266082, 0.37132122, 0.28973163, 0.30685179, 0.35504072,\n",
              "        0.31286806, 0.30999598, 0.34406956, 0.30135286, 0.32726261,\n",
              "        0.3334446 , 0.31404105, 0.31719923, 0.32521814, 0.31930845,\n",
              "        0.30800613, 0.29518675, 0.30236646, 0.32548192, 0.31913773,\n",
              "        0.29421089, 0.31468267, 0.30585173, 0.31678319, 0.33268832,\n",
              "        0.29002446, 0.300853  , 0.3225506 , 0.28256834, 0.32462638,\n",
              "        0.316733  , 0.33329889, 0.32440139, 0.33521564, 0.32937228,\n",
              "        0.30615259, 0.30322044, 0.30239727, 0.30479379, 0.29575592,\n",
              "        0.31084673, 0.30434509, 0.2896929 , 0.2999498 , 0.32617387,\n",
              "        0.32226759, 0.30758921, 0.31286066, 0.33180879, 0.28924956,\n",
              "        0.29026182, 0.29388476, 0.31740284, 0.32802428, 0.35126236,\n",
              "        0.29538513, 0.35441708, 0.31431731, 0.30448201, 0.30504726,\n",
              "        0.35469504, 0.30188642, 0.30547644, 0.30564173, 0.320443  ,\n",
              "        0.30960899, 0.3007696 , 0.34811799, 0.28151065, 0.31737972,\n",
              "        0.32718061, 0.31330399, 0.29499184, 0.29449014, 0.31485091,\n",
              "        0.33367222, 0.30664662, 0.35413465, 0.35555279, 0.29661415,\n",
              "        0.30765041, 0.33616903, 0.3155284 , 0.29390938, 0.30833931,\n",
              "        0.33450219, 0.30764724, 0.32361623, 0.31734805, 0.31834254,\n",
              "        0.31913894, 0.30135996, 0.31834827, 0.30492483, 0.302501  ,\n",
              "        0.29213664, 0.30715217, 0.31285129, 0.31444999, 0.33665242,\n",
              "        0.35826302, 0.37031918, 0.29189575, 0.33250544, 0.29845788,\n",
              "        0.32860891, 0.31576682, 0.29240123, 0.30842898, 0.29940858,\n",
              "        0.29271476, 0.30329419, 0.31486865, 0.34790598, 0.31259313,\n",
              "        0.32363753, 0.33232571, 0.31453407, 0.30833287, 0.35347755,\n",
              "        0.32023222, 0.32345555, 0.31771484, 0.30025738, 0.30568949,\n",
              "        0.29075325, 0.30816701, 0.29789769, 0.33155584, 0.29339146,\n",
              "        0.31034788, 0.3094466 , 0.30038409, 0.3111968 , 0.32515113,\n",
              "        0.31015594, 0.3201526 , 0.31674744, 0.29800205, 0.29912504,\n",
              "        0.29704228, 0.34756962, 0.30691418, 0.29408585, 0.33878972,\n",
              "        0.30723144, 0.30725726, 0.308194  , 0.29482422, 0.31446374,\n",
              "        0.30990035, 0.33108691, 0.30614084, 0.32664554, 0.30495794,\n",
              "        0.28446255, 0.29349694, 0.32625391, 0.30755927, 0.31781039,\n",
              "        0.32368181, 0.3104961 , 0.32868201, 0.30836683, 0.32506992,\n",
              "        0.28418305, 0.31941248, 0.30357247, 0.31797017, 0.32276554,\n",
              "        0.32620697, 0.29867225, 0.31530876, 0.30832713, 0.28584153,\n",
              "        0.31136933, 0.37457074, 0.32098754, 0.31765661, 0.30890905,\n",
              "        0.31656798, 0.3431416 , 0.35978242, 0.31076538, 0.29765339,\n",
              "        0.3247952 , 0.28165996, 0.29962867, 0.29192849, 0.30795361,\n",
              "        0.31546026, 0.32765101, 0.29457836, 0.2938284 , 0.28717641,\n",
              "        0.30606097, 0.29144818, 0.35694187, 0.30803277, 0.30440316,\n",
              "        0.32947902, 0.30662447, 0.28928968, 0.32445666, 0.32550274,\n",
              "        0.30825632, 0.32758072, 0.31133687, 0.35372662, 0.33313193,\n",
              "        0.29212014, 0.33059048, 0.29641553, 0.33148813, 0.30484153,\n",
              "        0.32978449, 0.32246321, 0.34383173, 0.32131385, 0.29933281,\n",
              "        0.31522339, 0.32168087, 0.35561194, 0.29343827, 0.32306529,\n",
              "        0.31689589, 0.30280071, 0.32900652, 0.30227925, 0.28634513,\n",
              "        0.3446314 , 0.32027127, 0.33670943, 0.31708048, 0.30331926,\n",
              "        0.33829271, 0.31235278, 0.31571888, 0.30986001, 0.30960857,\n",
              "        0.30194905, 0.31848249, 0.30217099, 0.32838851, 0.30207186,\n",
              "        0.28602143, 0.29560859, 0.30029816, 0.34312388, 0.32155437,\n",
              "        0.31869616, 0.28531095, 0.29908066, 0.30529075, 0.36025479,\n",
              "        0.3048819 , 0.30439169, 0.30398376, 0.30473498, 0.32049141,\n",
              "        0.29963111, 0.30725472, 0.30910166, 0.33556759, 0.31907106,\n",
              "        0.29732802, 0.3275899 , 0.32971368, 0.32808476, 0.29003732,\n",
              "        0.30119283, 0.32702732, 0.30272909, 0.32275731, 0.29644906,\n",
              "        0.30853947, 0.31028941, 0.35058238, 0.31685606, 0.28593395,\n",
              "        0.29629229, 0.31582791, 0.30925912, 0.30098079, 0.31479719,\n",
              "        0.30347552, 0.28712146, 0.30006756, 0.30692725, 0.28646649,\n",
              "        0.28827511, 0.29635934, 0.29222809, 0.29775283, 0.28822705,\n",
              "        0.30145541, 0.30072113, 0.32133168, 0.31709277, 0.29921487,\n",
              "        0.28918897, 0.30212932, 0.3162102 , 0.32355281, 0.30285448,\n",
              "        0.33303789, 0.3293184 , 0.29485642, 0.32834284, 0.29955254,\n",
              "        0.31801804, 0.32655469, 0.28981027, 0.28123645, 0.31323486,\n",
              "        0.32418693, 0.31372937, 0.30916829, 0.30518484, 0.30276109,\n",
              "        0.29062073, 0.28714573, 0.30915746, 0.33048967, 0.31041386,\n",
              "        0.30807608, 0.31311695, 0.31702112, 0.28711911, 0.28230911,\n",
              "        0.29704007, 0.30475008, 0.29926913, 0.30777588, 0.2994959 ,\n",
              "        0.32918212, 0.33450114, 0.30625365, 0.29283431, 0.31480483,\n",
              "        0.2865018 , 0.31896867, 0.30548523, 0.31442227, 0.30853289,\n",
              "        0.30807161, 0.29952941, 0.29387293, 0.2887535 , 0.29017244,\n",
              "        0.30408119, 0.33152947, 0.31194319, 0.30218539, 0.3011886 ,\n",
              "        0.29083223, 0.3150906 , 0.30917082, 0.30562096, 0.31610363,\n",
              "        0.30056304, 0.32905787, 0.30438956, 0.2921267 , 0.29880743,\n",
              "        0.34029039, 0.28740144, 0.29385146, 0.31944877, 0.30657732,\n",
              "        0.34064383, 0.29820265, 0.30279402, 0.31949175, 0.28703237,\n",
              "        0.32371983, 0.33296121, 0.32521378, 0.30108128, 0.29144102,\n",
              "        0.331102  , 0.2897157 , 0.29263231, 0.29122674, 0.30577084,\n",
              "        0.30819448, 0.3027499 , 0.31948232, 0.34780725, 0.31080874,\n",
              "        0.33790673, 0.31026595, 0.30130385, 0.30901682, 0.32956598,\n",
              "        0.31388479, 0.28544259, 0.29766379, 0.29215365, 0.29531116,\n",
              "        0.31503563, 0.30899949, 0.30003967, 0.3509045 , 0.32706939,\n",
              "        0.3147969 , 0.32775176, 0.30964746, 0.30514277, 0.30908135,\n",
              "        0.32443171, 0.28949714, 0.30691787, 0.32570198, 0.30733634,\n",
              "        0.30774254, 0.31655291, 0.30181932, 0.30704596, 0.33399408,\n",
              "        0.29842937, 0.31960801, 0.3074907 , 0.33171497, 0.32342073,\n",
              "        0.30505679, 0.29380284, 0.31169685, 0.29881324, 0.31001882,\n",
              "        0.28797758, 0.31282402, 0.34503949, 0.29974767, 0.29481262,\n",
              "        0.3056495 , 0.29520687, 0.33350929, 0.32306881, 0.35199404,\n",
              "        0.2972334 , 0.31233306, 0.34401729, 0.30830925, 0.31200794,\n",
              "        0.29982727, 0.37186617, 0.30410305, 0.30490468, 0.29220355,\n",
              "        0.3041768 , 0.30979876, 0.31417506, 0.32343118, 0.33713501,\n",
              "        0.32855457, 0.3107841 , 0.29314528, 0.29976666, 0.31421061,\n",
              "        0.29568078, 0.32962635, 0.28180066, 0.30694977, 0.31996282,\n",
              "        0.30842219, 0.31179589, 0.32193991, 0.35266404, 0.30082247,\n",
              "        0.29830241, 0.32362144, 0.31682113, 0.29349872, 0.30176303,\n",
              "        0.31206049, 0.32046523, 0.32830035, 0.30645023, 0.29923386,\n",
              "        0.29722826, 0.29782527, 0.32870799, 0.29765915, 0.31755539,\n",
              "        0.32043686, 0.29908396, 0.30035043, 0.29095446, 0.32081815,\n",
              "        0.29507254, 0.30911303, 0.31747436, 0.3271588 , 0.31667269,\n",
              "        0.30957631, 0.29690398, 0.30468271, 0.29444897, 0.32380733,\n",
              "        0.31848036, 0.33238665, 0.34431109, 0.32118459, 0.31826944,\n",
              "        0.31693755, 0.31283478, 0.34120669, 0.36790922, 0.29978056,\n",
              "        0.30247612, 0.31368624, 0.29371277, 0.29014607, 0.314714  ,\n",
              "        0.33749468, 0.3331781 , 0.3131749 , 0.29652823, 0.30888083,\n",
              "        0.30398543, 0.32216261, 0.2911054 , 0.34527741, 0.29249148,\n",
              "        0.29382544, 0.28305064, 0.31765373, 0.31018943, 0.28917847,\n",
              "        0.28970156, 0.30585478, 0.31517541, 0.33037225, 0.3081104 ,\n",
              "        0.28868955, 0.33894298, 0.30307062, 0.31233069, 0.35017913,\n",
              "        0.29002143, 0.28367545, 0.30177384, 0.30205187, 0.29300635,\n",
              "        0.29337281, 0.28750544, 0.29151449, 0.32616105, 0.30646726,\n",
              "        0.30101707, 0.33649553, 0.33171156, 0.30275888, 0.31178452,\n",
              "        0.31462068, 0.30854194, 0.30917567, 0.29522857, 0.31652436,\n",
              "        0.31249023, 0.31316207, 0.31604188, 0.31480214, 0.2963407 ,\n",
              "        0.32428381, 0.29874705, 0.31926587, 0.31329677, 0.29817649,\n",
              "        0.29847467, 0.29517976, 0.30374208, 0.31708795, 0.28965658,\n",
              "        0.3262461 , 0.32387601, 0.30910477, 0.30305678, 0.30964619,\n",
              "        0.3192513 , 0.33033929, 0.36100424, 0.33281193, 0.32829498,\n",
              "        0.32503791, 0.31744872, 0.30580247, 0.33748267, 0.35407678,\n",
              "        0.32284043, 0.34040226, 0.29478133, 0.31247304, 0.28805824,\n",
              "        0.31630428, 0.30709307, 0.29901569, 0.31869021, 0.30923402,\n",
              "        0.34502319, 0.31885305, 0.34633408, 0.31948387, 0.32173163,\n",
              "        0.30656607, 0.30507006, 0.32288604, 0.33237741, 0.30199821,\n",
              "        0.32256461, 0.30573303, 0.35640371, 0.31267589, 0.37040069,\n",
              "        0.29212336, 0.30523726, 0.31712388, 0.29127109, 0.29930193,\n",
              "        0.35127744, 0.28828289, 0.28733618, 0.31755649, 0.32099403,\n",
              "        0.31349513, 0.29623968, 0.30797179, 0.29324502, 0.30112461,\n",
              "        0.31356676, 0.32251983, 0.29315487, 0.33877534, 0.34877694,\n",
              "        0.32434249, 0.36365963, 0.31104848, 0.32772548, 0.29262305,\n",
              "        0.31833799, 0.30714076, 0.33350161, 0.30566168, 0.32532977,\n",
              "        0.31323633, 0.2971254 , 0.31078634, 0.30718342, 0.28700127,\n",
              "        0.307317  , 0.29602168, 0.29044171, 0.30024347, 0.31704476,\n",
              "        0.31843531, 0.31154091, 0.3116881 , 0.33574557, 0.28616387,\n",
              "        0.3129101 , 0.28879611, 0.32880544, 0.31517222, 0.32578819,\n",
              "        0.33239101, 0.32181503, 0.29625746, 0.31438824, 0.29630167,\n",
              "        0.32008294, 0.28376241, 0.28671373, 0.31074473, 0.29525797,\n",
              "        0.32482791, 0.34077241, 0.29159659, 0.29324166, 0.29672485,\n",
              "        0.30978767, 0.29975791, 0.31042099, 0.3029792 , 0.33625357,\n",
              "        0.29789949, 0.33356375, 0.30189391, 0.31850561, 0.29007601,\n",
              "        0.32850817, 0.32654489, 0.31207629, 0.31331128, 0.28673336,\n",
              "        0.35818584, 0.32333993, 0.34297088, 0.29836301, 0.32716028,\n",
              "        0.29407136, 0.29262685, 0.31371422, 0.30839055, 0.31762572,\n",
              "        0.2949746 , 0.29359952, 0.33084754, 0.28719463, 0.33813737,\n",
              "        0.29951909, 0.29185296, 0.31525247, 0.29833807, 0.31558468,\n",
              "        0.31323519, 0.30846577, 0.32788667, 0.3224565 , 0.33471959,\n",
              "        0.29948135, 0.29240083, 0.29792362, 0.30624729, 0.29725223,\n",
              "        0.30618882, 0.30037347, 0.36504288, 0.32668711, 0.2983876 ,\n",
              "        0.29259127, 0.29907544, 0.29949883, 0.32232145, 0.30100606,\n",
              "        0.31809573, 0.28694321, 0.29283013, 0.33793004, 0.32434503,\n",
              "        0.32880787, 0.304459  , 0.28783077, 0.2978102 , 0.31006804,\n",
              "        0.32756829, 0.29588302, 0.30776144, 0.31393014, 0.33535189,\n",
              "        0.29197864, 0.28882181, 0.3149423 , 0.29443063, 0.30581927,\n",
              "        0.30695252, 0.3432184 , 0.2966497 , 0.32680832, 0.33461773,\n",
              "        0.31323206, 0.29239694, 0.30348554, 0.30727129, 0.30497832,\n",
              "        0.30147123, 0.29257199, 0.29004153, 0.2975158 , 0.28969766,\n",
              "        0.30736527, 0.3129709 , 0.30727947, 0.3656005 , 0.31642368,\n",
              "        0.30791425, 0.3222528 , 0.31807851, 0.33807881, 0.2915982 ,\n",
              "        0.32884455, 0.3058914 , 0.30351068, 0.28703431, 0.31247697,\n",
              "        0.31781862, 0.3146482 , 0.32401323, 0.32757201, 0.29114291,\n",
              "        0.3082383 , 0.30327647, 0.33627308, 0.29895072, 0.3183583 ,\n",
              "        0.30835681, 0.30601931, 0.28864337, 0.32382279, 0.30465212,\n",
              "        0.32081094, 0.31502366, 0.30842124, 0.29318742, 0.32925743,\n",
              "        0.28882231, 0.29175616, 0.31811791, 0.33746577, 0.30131801,\n",
              "        0.30518986, 0.33573677, 0.29238104, 0.29563152, 0.29824069,\n",
              "        0.30902329, 0.28578796, 0.31477425, 0.36805639, 0.33132683,\n",
              "        0.31464134, 0.32919048, 0.34930192, 0.29592974, 0.32182151,\n",
              "        0.29834908, 0.34428557, 0.31909819, 0.30606645, 0.33709563,\n",
              "        0.31823233, 0.3119355 , 0.31061561, 0.35015898, 0.31178284,\n",
              "        0.32458154, 0.33094608, 0.31723123, 0.29125437, 0.29757472,\n",
              "        0.32772305, 0.34378869, 0.32784266, 0.32494868, 0.29872956,\n",
              "        0.30208794, 0.32577652, 0.33186654, 0.31281864, 0.32099923,\n",
              "        0.30475929, 0.29772476, 0.28904839, 0.31114912, 0.28301411,\n",
              "        0.32828673, 0.34031403, 0.31536643, 0.34198618, 0.32823735,\n",
              "        0.30390666, 0.30562683, 0.29934843, 0.3112404 , 0.32025769,\n",
              "        0.31077289, 0.31103416, 0.3079957 , 0.29718936, 0.30729684,\n",
              "        0.31828188, 0.31339085, 0.32517564, 0.29666064, 0.32421968,\n",
              "        0.28961741, 0.30608857, 0.30798638, 0.31994383, 0.3039595 ,\n",
              "        0.30805169, 0.31177609, 0.31042346, 0.29697818, 0.34288198,\n",
              "        0.35258573, 0.32989531, 0.35017758, 0.30132072, 0.38827033,\n",
              "        0.36470307, 0.28984568, 0.33302412, 0.29111449, 0.31328964,\n",
              "        0.33340718, 0.32701793, 0.30514607, 0.29824771, 0.28662338]))"
            ]
          },
          "metadata": {
            "tags": []
          },
          "execution_count": 13
        }
      ]
    },
    {
      "cell_type": "code",
      "metadata": {
        "id": "BS1V_YhllMpO",
        "colab_type": "code",
        "colab": {}
      },
      "source": [
        "portfolios = pd.DataFrame({'Return': pfolio_returns, 'Volatility': pfolio_volatilities})"
      ],
      "execution_count": 14,
      "outputs": []
    },
    {
      "cell_type": "code",
      "metadata": {
        "id": "upA54ORtoc-L",
        "colab_type": "code",
        "colab": {
          "base_uri": "https://localhost:8080/",
          "height": 405
        },
        "outputId": "3cd51077-f0e0-4917-a0ee-5f968792d62b"
      },
      "source": [
        "portfolios.plot(x = 'Volatility', y = 'Return', kind = 'scatter', figsize = (10,6))"
      ],
      "execution_count": 15,
      "outputs": [
        {
          "output_type": "execute_result",
          "data": {
            "text/plain": [
              "<matplotlib.axes._subplots.AxesSubplot at 0x7ff30f240e10>"
            ]
          },
          "metadata": {
            "tags": []
          },
          "execution_count": 15
        },
        {
          "output_type": "display_data",
          "data": {
            "image/png": "[encoded data removed]",
            "text/plain": [
              "<Figure size 720x432 with 1 Axes>"
            ]
          },
          "metadata": {
            "tags": [],
            "needs_background": "light"
          }
        }
      ]
    }
  ]
}