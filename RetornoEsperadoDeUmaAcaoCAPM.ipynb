{
  "nbformat": 4,
  "nbformat_minor": 0,
  "metadata": {
    "anaconda-cloud": {},
    "kernelspec": {
      "display_name": "Python 3",
      "language": "python",
      "name": "python3"
    },
    "language_info": {
      "codemirror_mode": {
        "name": "ipython",
        "version": 3
      },
      "file_extension": ".py",
      "mimetype": "text/x-python",
      "name": "python",
      "nbconvert_exporter": "python",
      "pygments_lexer": "ipython3",
      "version": "3.7.0"
    },
    "colab": {
      "name": "RetornoEsperadoDeUmaAcaoCAPM.ipynb",
      "provenance": [],
      "include_colab_link": true
    }
  },
  "cells": [
    {
      "cell_type": "markdown",
      "metadata": {
        "id": "view-in-github",
        "colab_type": "text"
      },
      "source": [
        "<a href=\"https://colab.research.google.com/github/lucaseduardo79/le79repo/blob/master/RetornoEsperadoDeUmaAcaoCAPM.ipynb\" target=\"_parent\"><img src=\"https://colab.research.google.com/assets/colab-badge.svg\" alt=\"Open In Colab\"/></a>"
      ]
    },
    {
      "cell_type": "code",
      "metadata": {
        "id": "qst6_DQzT2Ye",
        "colab_type": "code",
        "colab": {
          "base_uri": "https://localhost:8080/",
          "height": 71
        },
        "outputId": "a9a75ca1-ff6b-47fc-a2f7-352ce242116f"
      },
      "source": [
        "import numpy as np\n",
        "import pandas as pd\n",
        "from pandas_datareader import data as wb\n",
        "\n",
        "tickers = ['ITUB4.SA', '^BVSP']\n",
        "data = pd.DataFrame()\n",
        "for t in tickers:\n",
        "    data[t] = wb.DataReader(t, data_source='yahoo', start='2014-1-1', end='2019-12-31')['Adj Close'] \n",
        "    \n",
        "sec_returns = np.log( data / data.shift(1) )\n",
        "cov = sec_returns.cov() * 250\n",
        "cov_with_market = cov.iloc[0,1]\n",
        "market_var = sec_returns['^BVSP'].var() * 250\n",
        "\n",
        "ITUB4_beta = cov_with_market / market_var"
      ],
      "execution_count": 1,
      "outputs": [
        {
          "output_type": "stream",
          "text": [
            "/usr/local/lib/python3.6/dist-packages/pandas_datareader/compat/__init__.py:7: FutureWarning: pandas.util.testing is deprecated. Use the functions in the public API at pandas.testing instead.\n",
            "  from pandas.util.testing import assert_frame_equal\n"
          ],
          "name": "stderr"
        }
      ]
    },
    {
      "cell_type": "markdown",
      "metadata": {
        "id": "4m-vq7P3T2Yi",
        "colab_type": "text"
      },
      "source": [
        "Assume a risk-free rate of 2.5% and a risk premium of 5%. <br />\n",
        "Estimate the expected return of Itaú Unibanco."
      ]
    },
    {
      "cell_type": "markdown",
      "metadata": {
        "id": "-qyI56SrT2Yi",
        "colab_type": "text"
      },
      "source": [
        "**Calculando o retorno esperado ITUB4 (CAPM):**\n",
        "### $$\n",
        "\\overline{r_{pg}} = r_f + \\beta_{pg}(\\overline{r_{m}} - r_f) \n",
        "$$"
      ]
    },
    {
      "cell_type": "code",
      "metadata": {
        "id": "sijA7hu_T2Yj",
        "colab_type": "code",
        "colab": {
          "base_uri": "https://localhost:8080/",
          "height": 34
        },
        "outputId": "5d6ab1e2-e423-4ab4-9983-a907c7894c22"
      },
      "source": [
        "ITUB4_er = 0.025 + ITUB4_beta * 0.05\n",
        "ITUB4_er"
      ],
      "execution_count": 3,
      "outputs": [
        {
          "output_type": "execute_result",
          "data": {
            "text/plain": [
              "0.08288428379272961"
            ]
          },
          "metadata": {
            "tags": []
          },
          "execution_count": 3
        }
      ]
    }
  ]
}